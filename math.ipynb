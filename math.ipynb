{
 "cells": [
  {
   "cell_type": "code",
   "execution_count": 5,
   "metadata": {},
   "outputs": [
    {
     "name": "stdout",
     "output_type": "stream",
     "text": [
      "===============================================\n",
      "|      Test Type      |    p-value           |\n",
      "===============================================\n",
      "| One-tailed (Right)  |    0.278124      |\n",
      "|---------------------|----------------------|\n",
      "| Two-tailed          |    0.556249      |\n",
      "===============================================\n"
     ]
    }
   ],
   "source": [
    "import numpy as np\n",
    "from scipy import stats\n",
    "\n",
    "# Generate some sample data\n",
    "np.random.seed(0)\n",
    "sample_size = 100\n",
    "sample_data = np.random.normal(loc=0, scale=1, size=sample_size)\n",
    "\n",
    "# Define the null hypothesis mean\n",
    "null_mean = 0\n",
    "\n",
    "# Perform a one-tailed test (Right-tailed)\n",
    "one_tailed_p_value = stats.ttest_1samp(sample_data, null_mean).pvalue / 2\n",
    "\n",
    "# Perform a two-tailed test\n",
    "two_tailed_p_value = stats.ttest_1samp(sample_data, null_mean).pvalue\n",
    "\n",
    "# Display results in a table\n",
    "print(\"===============================================\")\n",
    "print(\"|      Test Type      |    p-value           |\")\n",
    "print(\"===============================================\")\n",
    "print(f\"| One-tailed (Right)  |    {one_tailed_p_value:.6f}      |\")\n",
    "print(\"|---------------------|----------------------|\")\n",
    "print(f\"| Two-tailed          |    {two_tailed_p_value:.6f}      |\")\n",
    "print(\"===============================================\")\n"
   ]
  }
 ],
 "metadata": {
  "kernelspec": {
   "display_name": "Python 3",
   "language": "python",
   "name": "python3"
  },
  "language_info": {
   "codemirror_mode": {
    "name": "ipython",
    "version": 3
   },
   "file_extension": ".py",
   "mimetype": "text/x-python",
   "name": "python",
   "nbconvert_exporter": "python",
   "pygments_lexer": "ipython3",
   "version": "3.11.5"
  }
 },
 "nbformat": 4,
 "nbformat_minor": 2
}
