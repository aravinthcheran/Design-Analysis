{
 "cells": [
  {
   "cell_type": "code",
   "execution_count": 1,
   "metadata": {},
   "outputs": [
    {
     "name": "stdout",
     "output_type": "stream",
     "text": [
      "Solution Exists: Following are the assigned colors\n",
      "1 2 3 2\n"
     ]
    }
   ],
   "source": [
    "V = 4\n",
    "\n",
    "def print_solution(color):\n",
    "    print(\"Solution Exists: Following are the assigned colors\")\n",
    "    print(\" \".join(map(str, color)))\n",
    "\n",
    "def is_safe(v, graph, color, c):\n",
    "    # Check if the color 'c' is safe for the vertex 'v'\n",
    "    for i in range(V):\n",
    "        if graph[v][i] and c == color[i]:\n",
    "            return False\n",
    "    return True\n",
    "\n",
    "def graph_coloring_util(graph, m, color, v):\n",
    "    # Base case: If all vertices are assigned a color, return true\n",
    "    if v == V:\n",
    "        return True\n",
    "\n",
    "    # Try different colors for the current vertex 'v'\n",
    "    for c in range(1, m + 1):\n",
    "        # Check if assignment of color 'c' to 'v' is fine\n",
    "        if is_safe(v, graph, color, c):\n",
    "            color[v] = c\n",
    "\n",
    "            # Recur to assign colors to the rest of the vertices\n",
    "            if graph_coloring_util(graph, m, color, v + 1):\n",
    "                return True\n",
    "\n",
    "            # If assigning color 'c' doesn't lead to a solution, remove it\n",
    "            color[v] = 0\n",
    "\n",
    "    # If no color can be assigned to this vertex, return false\n",
    "    return False\n",
    "\n",
    "def graph_coloring(graph, m):\n",
    "    color = [0] * V\n",
    "\n",
    "    # Call graph_coloring_util() for vertex 0\n",
    "    if not graph_coloring_util(graph, m, color, 0):\n",
    "        print(\"Solution does not exist\")\n",
    "        return False\n",
    "\n",
    "    # Print the solution\n",
    "    print_solution(color)\n",
    "    return True\n",
    "\n",
    "# Driver code\n",
    "if __name__ == \"__main__\":\n",
    "    graph = [\n",
    "        [0, 1, 1, 1],\n",
    "        [1, 0, 1, 0],\n",
    "        [1, 1, 0, 1],\n",
    "        [1, 0, 1, 0],\n",
    "    ]\n",
    "\n",
    "    m = 3\n",
    "\n",
    "    # Function call\n",
    "    graph_coloring(graph, m)\n",
    "    \n",
    "    #This code is contrubting by Raja Ramakrishna\n"
   ]
  },
  {
   "cell_type": "code",
   "execution_count": 2,
   "metadata": {},
   "outputs": [
    {
     "name": "stdout",
     "output_type": "stream",
     "text": [
      "Solution exists\n",
      "Minimum number of colors required is: 3\n",
      "The colors are: [1, 2, 3, 2]\n"
     ]
    }
   ],
   "source": [
    "def is_safe(graph,color,c,v):\n",
    "    for i in range(v):\n",
    "        if graph[v][i] and c == color[i]:\n",
    "            return False\n",
    "    return True\n",
    "\n",
    "def graph_coloring_help(graph,m,color,v):\n",
    "    if v==vertices:\n",
    "        return True\n",
    "\n",
    "    for c in range(1,m+1):\n",
    "        if is_safe(graph,color,c,v):\n",
    "            color[v]=c\n",
    "            if graph_coloring_help(graph,m+1,color,v+1):\n",
    "                return True\n",
    "            color[v]=0\n",
    "    return False\n",
    "\n",
    "def graph_coloring(graph,m=1):\n",
    "    color=[0]*vertices\n",
    "    if not graph_coloring_help(graph,m,color,0):\n",
    "        print(\"Solution does not exist\")\n",
    "        return False\n",
    "    print(\"Solution exists\")\n",
    "    print(\"Minimum number of colors required is:\",max(color))\n",
    "    print(\"The colors are:\",color)\n",
    "    return\n",
    "\n",
    "if __name__==\"__main__\":\n",
    "    vertices=4\n",
    "    graph=[[0,1,0,1],\n",
    "           [1,0,1,0],\n",
    "           [0,1,0,1],\n",
    "           [1,0,1,0]]\n",
    "    graph_coloring(graph)"
   ]
  }
 ],
 "metadata": {
  "kernelspec": {
   "display_name": "Python 3",
   "language": "python",
   "name": "python3"
  },
  "language_info": {
   "codemirror_mode": {
    "name": "ipython",
    "version": 3
   },
   "file_extension": ".py",
   "mimetype": "text/x-python",
   "name": "python",
   "nbconvert_exporter": "python",
   "pygments_lexer": "ipython3",
   "version": "3.11.5"
  }
 },
 "nbformat": 4,
 "nbformat_minor": 2
}
