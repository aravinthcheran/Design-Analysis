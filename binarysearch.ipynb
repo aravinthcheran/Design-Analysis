{
 "cells": [
  {
   "cell_type": "code",
   "execution_count": null,
   "metadata": {},
   "outputs": [],
   "source": [
    "from array import array\n",
    "\n",
    "def binary_search(arr:array,search:int)->int:\n",
    "    mid=len(arr)//2\n",
    "\n",
    "    if arr[mid]==search:\n",
    "        return mid\n",
    "    if len(arr)==1:\n",
    "        return 0\n",
    "    elif arr[mid]>search:\n",
    "        return binary_search(arr[:mid],search)\n",
    "    else:\n",
    "        return binary_search(arr[mid:],search)\n",
    "\n",
    "\n"
   ]
  },
  {
   "cell_type": "code",
   "execution_count": null,
   "metadata": {},
   "outputs": [],
   "source": [
    "def search(arr, val, occ):\n",
    "    if len(arr) <= 1:\n",
    "        occ += 1 if val == arr[0] else 0\n",
    "        return occ\n",
    "    mid = len(arr) // 2\n",
    "    if arr[mid] == val:\n",
    "        occ += 1\n",
    "    occ = search(arr[:mid], val, occ)\n",
    "    occ = search(arr[mid+1:], val, occ)\n",
    "    return occ\n",
    "\n",
    "occ = search([1, 2, 3, 4, 5, 5, 5], 5, 0)\n",
    "print(occ)"
   ]
  },
  {
   "cell_type": "code",
   "execution_count": 12,
   "metadata": {},
   "outputs": [
    {
     "name": "stdout",
     "output_type": "stream",
     "text": [
      "(2, 1)\n"
     ]
    }
   ],
   "source": [
    "def search(arr, val, occ):\n",
    "    if len(arr) == 0:\n",
    "        return occ\n",
    "    if len(arr) <= 1:\n",
    "        occ += 1 if val == arr[0] else 0\n",
    "        return occ\n",
    "    mid = len(arr) // 2\n",
    "    if arr[mid] == val:\n",
    "        occ += 1\n",
    "    occ = search(arr[:mid], val, occ)\n",
    "    occ = search(arr[mid+1:], val, occ)\n",
    "    return occ\n",
    "\n",
    "def least_occuring(arr, occ):\n",
    "    if len(arr) <= 1:\n",
    "        return occ.append(1) if len(arr) == 1 else occ\n",
    "    j=0\n",
    "    for i in range(len(arr)):\n",
    "        if arr[i]!=arr[i-1]:\n",
    "            occ[j] = (arr[i],search(arr, arr[i], 0))\n",
    "            j+=1\n",
    "    return occ\n",
    "\n",
    "def check(arr):\n",
    "    occ = [0] * len(set(arr))\n",
    "    occ = least_occuring(arr, occ)\n",
    "    occ.sort(key=lambda x:x[1])\n",
    "    print(occ[0])\n",
    "\n",
    "check([1,1 , 2, 3,3, 4,4,5, 5])"
   ]
  }
 ],
 "metadata": {
  "kernelspec": {
   "display_name": "Python 3",
   "language": "python",
   "name": "python3"
  },
  "language_info": {
   "codemirror_mode": {
    "name": "ipython",
    "version": 3
   },
   "file_extension": ".py",
   "mimetype": "text/x-python",
   "name": "python",
   "nbconvert_exporter": "python",
   "pygments_lexer": "ipython3",
   "version": "3.11.5"
  }
 },
 "nbformat": 4,
 "nbformat_minor": 2
}
