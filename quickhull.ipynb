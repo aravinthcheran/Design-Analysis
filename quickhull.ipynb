{
 "cells": [
  {
   "cell_type": "code",
   "execution_count": 23,
   "metadata": {},
   "outputs": [
    {
     "name": "stdout",
     "output_type": "stream",
     "text": [
      "[array([1, 5]), array([ 2, 10]), array([4, 7]), array([3, 2]), array([1, 5]), array([ 2, 10]), array([4, 7]), array([ 2, 10]), array([10,  4]), array([7, 4]), array([10,  4]), array([6, 1]), array([0, 0]), array([3, 2]), array([1, 5]), array([ 2, 10]), array([4, 7]), array([ 2, 10]), array([7, 4]), array([1, 5]), array([ 2, 10]), array([4, 7]), array([ 2, 10]), array([0, 0]), array([3, 2]), array([7, 4]), array([6, 1]), array([0, 0]), array([3, 2]), array([0, 0]), array([1, 5]), array([4, 7]), array([6, 1]), array([0, 0]), array([3, 2]), array([0, 0]), array([1, 5]), array([ 2, 10]), array([10,  4]), array([7, 4]), array([4, 7]), array([10,  4]), array([7, 4]), array([10,  4]), array([6, 1]), array([3, 2]), array([7, 4]), array([10,  4])]\n"
     ]
    }
   ],
   "source": [
    "from typing import Tuple\n",
    "import numpy as np\n",
    "\n",
    "def quick_hull(points):\n",
    "    def line_dist(p: Tuple, q: Tuple, r: Tuple) -> int:\n",
    "        return abs((q[1] - p[1]) * r[0] - (q[0] - p[0]) * r[1] + q[0] * p[1] - q[1] * p[0])\n",
    "    \n",
    "    def find_hull_points(u, v, points):\n",
    "        if not points:\n",
    "            return []\n",
    "\n",
    "        # Convert u, v, and points to numpy arrays\n",
    "        u = np.array(u)\n",
    "        v = np.array(v)\n",
    "        points = np.array(points)\n",
    "\n",
    "        # Find the point, w, with the maximum distance from the line connecting u and v\n",
    "        w = max(points, key=lambda p: np.cross(p - u, v - u))\n",
    "\n",
    "        # Separate the remaining points into two groups\n",
    "        # relative to the line connecting u and w, and w and v\n",
    "        p1 = [p for p in points if np.cross(p - u, w - u) < 0]\n",
    "        p2 = [p for p in points if np.cross(p - w, v - w) < 0]\n",
    "\n",
    "        # Recursively find the hull points in each group\n",
    "        return find_hull_points(u, w, p1) + [w] + find_hull_points(w, v, p2)\n",
    "    \n",
    "    if len(points) < 3:\n",
    "        return points\n",
    "    \n",
    "    # Sort points based on x-coordinates\n",
    "    points.sort(key=lambda x: x[0])\n",
    "    p1 = points[0]\n",
    "    q1 = points[-1]\n",
    "\n",
    "    upper_hull = find_hull_points(p1, q1, points)\n",
    "    lower_hull = find_hull_points(q1, p1, points)\n",
    "    \n",
    "    # Concatenate upper and lower hulls, excluding duplicate points\n",
    "    convex_hull = upper_hull + lower_hull[1:-1]\n",
    "    \n",
    "    return convex_hull\n",
    "\n",
    "# Example usage:\n",
    "points = [(0, 0), (1, 5), (2, 10), (3, 2), (4, 7), (6, 1), (7, 4), (10, 4)]\n",
    "convex_hull_points = quick_hull(points)\n",
    "print(convex_hull_points)\n",
    "\n"
   ]
  },
  {
   "cell_type": "code",
   "execution_count": 2,
   "metadata": {
    "slideshow": {
     "slide_type": "notes"
    }
   },
   "outputs": [
    {
     "name": "stdout",
     "output_type": "stream",
     "text": [
      "Points in Convex Hull: \n",
      "(1, 5)\n",
      "(0, 0)\n",
      "(10, 4)\n",
      "(6, 1)\n",
      "(2, 10)\n"
     ]
    }
   ],
   "source": [
    "from typing import List, Tuple\n",
    "\n",
    "def findSide(p,q,r):\n",
    "\tval = (q[1] - p[1]) * (r[0] - q[0]) - (q[0] - p[0]) * (r[1] - q[1])\n",
    "\treturn 0 if val == 0 else 1 if val > 0 else -1\n",
    "def lineDist(p,q,r):\n",
    "\treturn abs((q[1] - p[1]) * (r[0] - q[0]) - (q[0] - p[0]) * (r[1] - q[1]))\n",
    "\n",
    "def quickHull(points:List, n:int, p1:Tuple, p2:Tuple, side:int)->None:\n",
    "\tind = -1\n",
    "\tmax_dist = 0\n",
    "\n",
    "\tfor i in range(n):\n",
    "\t\ttemp = lineDist(p1, p2, points[i])\n",
    "\t\tif(findSide(p1, p2, points[i])) == 0:\n",
    "\t\t\thull.append(points[i])\n",
    "\n",
    "\t\tif side == findSide(p1, p2, points[i]) and temp > max_dist:\n",
    "\t\t\tind = i\n",
    "\t\t\tmax_dist = temp\n",
    "\n",
    "\tif ind == -1:\n",
    "\t\thull.append(p1)\n",
    "\t\thull.append(p2)\n",
    "\t\treturn\n",
    "\n",
    "\t# Recur for the two parts divided by a[ind]\n",
    "\tquickHull(points, n, points[ind], p1, findSide(p1, points[ind], p2))\n",
    "\tquickHull(points, n, points[ind], p2, findSide(p2, points[ind], p1))\n",
    "\n",
    "def printHull(points:List, n:int)->None:\n",
    "\tpoints = sorted(points, key = lambda point: point[0])\n",
    "\n",
    "\tquickHull(points, n, points[0], points[-1], 1)\n",
    "\tquickHull(points, n, points[0], points[-1], -1)\n",
    "\torg=set(hull)\n",
    "\tprint(\"Points in Convex Hull: \")\n",
    "\tfor point in org:\n",
    "\t\tprint(point)\n",
    "\n",
    "# Test the function\n",
    "points = [(0, 0), (1, 5), (2, 10), (3, 2), (4, 7), (6, 1), (7, 4), (10, 4)]\n",
    "hull = []\n",
    "printHull(points, len(points))"
   ]
  },
  {
   "cell_type": "code",
   "execution_count": 7,
   "metadata": {},
   "outputs": [
    {
     "name": "stdout",
     "output_type": "stream",
     "text": [
      "Convex Hull: {(1, 5), (0, 0), (10, 4), (6, 1), (2, 10)}\n"
     ]
    }
   ],
   "source": [
    "from typing import List, Tuple\n",
    "\n",
    "def find_side(p: Tuple, q: Tuple, r: Tuple) -> int:\n",
    "    val = (q[1] - p[1]) * (r[0] - q[0]) - (q[0] - p[0]) * (r[1] - q[1])\n",
    "    return 0 if val == 0 else 1 if val > 0 else -1\n",
    "\n",
    "def line_dist(p, q, r):\n",
    "    return abs((q[1] - p[1]) * (r[0] - p[0]) - (q[0] - p[0]) * (r[1] - p[1]))\n",
    "\n",
    "def quick_hull(points: List, n: int, p1: Tuple, p2: Tuple, side: int, hull: List[Tuple]) -> None:\n",
    "    index = -1\n",
    "    max_dist = 0\n",
    "    \n",
    "    for i in range(n):\n",
    "        if find_side(p1, p2, points[i]) == 0:\n",
    "            hull.append(points[i])\n",
    "        elif side == find_side(p1, p2, points[i]) and max_dist < line_dist(p1, p2, points[i]):\n",
    "            index = i\n",
    "            max_dist = line_dist(p1, p2, points[i])\n",
    "    \n",
    "    if index == -1:\n",
    "        hull.append(p1)\n",
    "        hull.append(p2)\n",
    "        return\n",
    "\n",
    "    quick_hull(points, n, points[index], p1, find_side(p1, points[index], p2), hull)\n",
    "    quick_hull(points, n, points[index], p2, find_side(p2, points[index], p1), hull)\n",
    "\n",
    "def print_hull(points: List, n: int) -> set:\n",
    "    points = sorted(points, key=lambda point: point[0])\n",
    "    hull = []\n",
    "    quick_hull(points, n, points[0], points[-1], 1, hull)\n",
    "    quick_hull(points, n, points[0], points[-1], -1, hull)\n",
    "    org = set(hull)\n",
    "    return org\n",
    "\n",
    "points = [(0, 0), (1, 5), (2, 10), (3, 2), (4, 7), (6, 1), (7, 4), (10, 4)]\n",
    "hull = print_hull(points, len(points))\n",
    "print(\"Convex Hull:\", hull)\n"
   ]
  },
  {
   "cell_type": "code",
   "execution_count": null,
   "metadata": {},
   "outputs": [
    {
     "name": "stdout",
     "output_type": "stream",
     "text": [
      "1\n"
     ]
    }
   ],
   "source": [
    "p1 = (2,10)\n",
    "p2 = (0,0)\n",
    "p = (10,4)\n",
    "def findSide(p,q,r):\n",
    "\tval = (q[1] - p[1]) * (r[0] - q[0]) - (q[0] - p[0]) * (r[1] - q[1])\n",
    "\treturn 0 if val == 0 else 1 if val > 0 else -1\n",
    "side = findSide(p2, p1, p)\n",
    "print(side)"
   ]
  },
  {
   "cell_type": "code",
   "execution_count": null,
   "metadata": {},
   "outputs": [
    {
     "name": "stdout",
     "output_type": "stream",
     "text": [
      "[12345]\n"
     ]
    }
   ],
   "source": [
    "arr=[int (item) for item in input(\"Enter items in space:\").split()]\n",
    "print(arr)"
   ]
  }
 ],
 "metadata": {
  "kernelspec": {
   "display_name": "Python 3",
   "language": "python",
   "name": "python3"
  },
  "language_info": {
   "codemirror_mode": {
    "name": "ipython",
    "version": 3
   },
   "file_extension": ".py",
   "mimetype": "text/x-python",
   "name": "python",
   "nbconvert_exporter": "python",
   "pygments_lexer": "ipython3",
   "version": "3.11.5"
  }
 },
 "nbformat": 4,
 "nbformat_minor": 2
}
