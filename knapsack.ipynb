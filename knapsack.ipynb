{
 "cells": [
  {
   "cell_type": "code",
   "execution_count": 8,
   "metadata": {},
   "outputs": [
    {
     "name": "stdout",
     "output_type": "stream",
     "text": [
      "Maximum value: 15\n",
      "Items included in the knapsack: [1, 2, 4]\n"
     ]
    }
   ],
   "source": [
    "def knapsack(n, w, weight, value):\n",
    "    dp=[[0 for i in range(w+1)] for j in range(n+1)]\n",
    "    for i in range(1, n +1):\n",
    "        for j in range(1, w+1):\n",
    "            if weight[i - 1] <= j:\n",
    "                dp[i][j] = max(dp[i - 1][j], dp[i - 1][j - weight[i - 1]] + value[i - 1])\n",
    "            else:\n",
    "                dp[i][j] = dp[i - 1][j]\n",
    "\n",
    "    max_value = dp[n][w]\n",
    "    \n",
    "    # To find the items included in the knapsack\n",
    "    items_included = []\n",
    "    i, j = n, w\n",
    "    while i > 0 and j > 0:\n",
    "        if dp[i][j] != dp[i - 1][j]:\n",
    "            items_included.append(i)  # item indices are 1-based\n",
    "            j -= weight[i - 1]\n",
    "        i -= 1\n",
    "    \n",
    "    items_included.reverse()  # reverse to maintain the order of item indices\n",
    "    \n",
    "    return max_value, items_included\n",
    "\n",
    "n = 5\n",
    "w = 10\n",
    "weight = [2, 3, 4, 5, 9]\n",
    "value = [3, 4, 5, 8, 10]\n",
    "\n",
    "max_value, items_included = knapsack(n, w, weight, value)\n",
    "print(\"Maximum value:\", max_value)\n",
    "print(\"Items included in the knapsack:\", items_included)"
   ]
  },
  {
   "cell_type": "markdown",
   "metadata": {},
   "source": [
    "Bactracking"
   ]
  },
  {
   "cell_type": "code",
   "execution_count": null,
   "metadata": {},
   "outputs": [],
   "source": [
    "def knapsack(wt, val, W, n):\n",
    "\n",
    "    # base conditions\n",
    "    if n == 0 or W == 0:\n",
    "        return 0\n",
    "    if t[n][W] != -1:\n",
    "        return t[n][W]\n",
    "\n",
    "    # choice diagram code\n",
    "    if wt[n-1] <= W:\n",
    "        t[n][W] = max(\n",
    "            val[n-1] + knapsack(\n",
    "                wt, val, W-wt[n-1], n-1),\n",
    "            knapsack(wt, val, W, n-1))\n",
    "        return t[n][W]\n",
    "    elif wt[n-1] > W:\n",
    "        t[n][W] = knapsack(wt, val, W, n-1)\n",
    "        return t[n][W]\n",
    "\n",
    "# Driver code\n",
    "profit = [60, 100, 120]\n",
    "weight = [10, 20, 30]\n",
    "W = 50\n",
    "n = len(profit)\n",
    "\n",
    "# We initialize the matrix with -1 at first.\n",
    "t = [[-1 for i in range(W + 1)] for j in range(n + 1)]\n",
    "print(knapsack(weight, profit, W, n))"
   ]
  },
  {
   "cell_type": "code",
   "execution_count": 15,
   "metadata": {},
   "outputs": [
    {
     "name": "stdout",
     "output_type": "stream",
     "text": [
      "(15, [0, 1, 3])\n"
     ]
    }
   ],
   "source": [
    "def knapsack(weight,values,capacity):\n",
    "    n,max_value = len(weight),0\n",
    "    best=[]\n",
    "    def backtrack(i,cur_weight,curr_val,cur_comb):\n",
    "        nonlocal max_value,best\n",
    "        if cur_weight<=capacity and curr_val>max_value:\n",
    "            max_value = curr_val\n",
    "            best = list(cur_comb)\n",
    "\n",
    "        if i==n or cur_weight>capacity:\n",
    "            return\n",
    "        \n",
    "        backtrack(i+1,cur_weight,curr_val,cur_comb)\n",
    "        if cur_weight+weight[i]<=capacity:\n",
    "            cur_comb.append(i)\n",
    "            backtrack(i+1,cur_weight+weight[i],curr_val+values[i],cur_comb)\n",
    "            cur_comb.pop()\n",
    "\n",
    "    backtrack(0,0,0,[])\n",
    "    return max_value,list((best))\n",
    "\n",
    "weight = [2, 3, 4, 5, 9]\n",
    "values = [3, 4, 5, 8, 10]\n",
    "capacity = 10\n",
    "print(knapsack(weight,values,capacity))\n",
    "        "
   ]
  }
 ],
 "metadata": {
  "kernelspec": {
   "display_name": "Python 3",
   "language": "python",
   "name": "python3"
  },
  "language_info": {
   "codemirror_mode": {
    "name": "ipython",
    "version": 3
   },
   "file_extension": ".py",
   "mimetype": "text/x-python",
   "name": "python",
   "nbconvert_exporter": "python",
   "pygments_lexer": "ipython3",
   "version": "3.11.5"
  }
 },
 "nbformat": 4,
 "nbformat_minor": 2
}
