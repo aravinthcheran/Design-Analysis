{
 "cells": [
  {
   "cell_type": "code",
   "execution_count": null,
   "metadata": {},
   "outputs": [],
   "source": [
    "def multistage_graph(graph, stages):\n",
    "    num_stages = len(stages)\n",
    "    num_vertices = len(graph)\n",
    "    min_costs = [float('inf')] * num_vertices\n",
    "    next_vertex = [None] * num_vertices\n",
    "    min_costs[-1] = 0\n",
    "    for i in range(num_stages - 2, -1, -1):\n",
    "        for vertex in stages[i]:\n",
    "            for neighbor in graph[vertex]:\n",
    "                cost = graph[vertex][neighbor] + min_costs[neighbor]\n",
    "                if cost < min_costs[vertex]:\n",
    "                    min_costs[vertex] = cost\n",
    "                    next_vertex[vertex] = neighbor\n",
    "\n",
    "    # Reconstruct the minimum cost path\n",
    "    path = []\n",
    "    current_vertex = 0  # Start from the source vertex\n",
    "    while current_vertex is not None:\n",
    "        path.append(current_vertex)\n",
    "        current_vertex = next_vertex[current_vertex]\n",
    "    return path, min_costs[0]\n",
    "# Example usage:\n",
    "if __name__ == \"__main__\":\n",
    "    # The multistage graph represented as an adjacency dictionary\n",
    "    graph = {\n",
    "        0: {1: 2, 2: 3},\n",
    "        1: {3: 5, 4: 2},\n",
    "        2: {3: 4, 4: 1},\n",
    "        3: {5: 6},\n",
    "        4: {5: 3},\n",
    "        5: {6: 1},\n",
    "        6: {7: 1},\n",
    "        7: {8: 1},\n",
    "        8: {}\n",
    "    }\n",
    "    # Define the stages of the multistage graph\n",
    "    stages = [\n",
    "        [8],          # Sink stage\n",
    "        [6, 7],       # Stage K-1\n",
    "        [3, 4, 5],    # Stage K-2\n",
    "        [1, 2]        # Source stage\n",
    "    ]\n",
    "    path, min_cost = multistage_graph(graph, stages)\n",
    "    print(\"Minimum cost path:\", path)\n",
    "    print(\"Minimum cost:\", min_cost)"
   ]
  }
 ],
 "metadata": {
  "language_info": {
   "name": "python"
  }
 },
 "nbformat": 4,
 "nbformat_minor": 2
}
