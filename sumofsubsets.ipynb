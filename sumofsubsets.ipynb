{
 "cells": [
  {
   "cell_type": "code",
   "execution_count": 7,
   "metadata": {},
   "outputs": [
    {
     "name": "stdout",
     "output_type": "stream",
     "text": [
      "[[2, 7], [3, 6]]\n"
     ]
    }
   ],
   "source": [
    "sol=[]\n",
    "candidates=[2,3,6,7]\n",
    "\n",
    "def backtrack(arr,target,index):\n",
    "    if target==0:\n",
    "        sol.append(list(arr))\n",
    "        return\n",
    "    if target<0:\n",
    "        return\n",
    "    prev=-1\n",
    "    for i in range(index,len(candidates)):\n",
    "        if prev!=candidates[i]:\n",
    "            arr.append(candidates[i])\n",
    "            prev=candidates[i]\n",
    "            backtrack(arr,target-candidates[i],i+1)\n",
    "            arr.pop()\n",
    "backtrack([],9,0)\n",
    "print (sol)"
   ]
  },
  {
   "cell_type": "code",
   "execution_count": 8,
   "metadata": {},
   "outputs": [
    {
     "name": "stdout",
     "output_type": "stream",
     "text": [
      "Target Sum: 872005\n"
     ]
    },
    {
     "ename": "KeyboardInterrupt",
     "evalue": "",
     "output_type": "error",
     "traceback": [
      "\u001b[1;31m---------------------------------------------------------------------------\u001b[0m",
      "\u001b[1;31mKeyboardInterrupt\u001b[0m                         Traceback (most recent call last)",
      "Cell \u001b[1;32mIn[8], line 26\u001b[0m\n\u001b[0;32m     24\u001b[0m             backtr(temp,i\u001b[38;5;241m+\u001b[39m\u001b[38;5;241m1\u001b[39m,target\u001b[38;5;241m-\u001b[39marr[i])\n\u001b[0;32m     25\u001b[0m             prev\u001b[38;5;241m=\u001b[39mtemp\u001b[38;5;241m.\u001b[39mpop()\n\u001b[1;32m---> 26\u001b[0m \u001b[43mbacktr\u001b[49m\u001b[43m(\u001b[49m\u001b[43m[\u001b[49m\u001b[43m]\u001b[49m\u001b[43m,\u001b[49m\u001b[38;5;241;43m0\u001b[39;49m\u001b[43m,\u001b[49m\u001b[43mtarget_sum\u001b[49m\u001b[43m)\u001b[49m\n\u001b[0;32m     27\u001b[0m \u001b[38;5;28mprint\u001b[39m(sol)\n",
      "Cell \u001b[1;32mIn[8], line 24\u001b[0m, in \u001b[0;36mbacktr\u001b[1;34m(temp, index, target)\u001b[0m\n\u001b[0;32m     22\u001b[0m \u001b[38;5;28;01mif\u001b[39;00m prev\u001b[38;5;241m!=\u001b[39marr[i]:\n\u001b[0;32m     23\u001b[0m     temp\u001b[38;5;241m.\u001b[39mappend(arr[i])\n\u001b[1;32m---> 24\u001b[0m     \u001b[43mbacktr\u001b[49m\u001b[43m(\u001b[49m\u001b[43mtemp\u001b[49m\u001b[43m,\u001b[49m\u001b[43mi\u001b[49m\u001b[38;5;241;43m+\u001b[39;49m\u001b[38;5;241;43m1\u001b[39;49m\u001b[43m,\u001b[49m\u001b[43mtarget\u001b[49m\u001b[38;5;241;43m-\u001b[39;49m\u001b[43marr\u001b[49m\u001b[43m[\u001b[49m\u001b[43mi\u001b[49m\u001b[43m]\u001b[49m\u001b[43m)\u001b[49m\n\u001b[0;32m     25\u001b[0m     prev\u001b[38;5;241m=\u001b[39mtemp\u001b[38;5;241m.\u001b[39mpop()\n",
      "Cell \u001b[1;32mIn[8], line 24\u001b[0m, in \u001b[0;36mbacktr\u001b[1;34m(temp, index, target)\u001b[0m\n\u001b[0;32m     22\u001b[0m \u001b[38;5;28;01mif\u001b[39;00m prev\u001b[38;5;241m!=\u001b[39marr[i]:\n\u001b[0;32m     23\u001b[0m     temp\u001b[38;5;241m.\u001b[39mappend(arr[i])\n\u001b[1;32m---> 24\u001b[0m     \u001b[43mbacktr\u001b[49m\u001b[43m(\u001b[49m\u001b[43mtemp\u001b[49m\u001b[43m,\u001b[49m\u001b[43mi\u001b[49m\u001b[38;5;241;43m+\u001b[39;49m\u001b[38;5;241;43m1\u001b[39;49m\u001b[43m,\u001b[49m\u001b[43mtarget\u001b[49m\u001b[38;5;241;43m-\u001b[39;49m\u001b[43marr\u001b[49m\u001b[43m[\u001b[49m\u001b[43mi\u001b[49m\u001b[43m]\u001b[49m\u001b[43m)\u001b[49m\n\u001b[0;32m     25\u001b[0m     prev\u001b[38;5;241m=\u001b[39mtemp\u001b[38;5;241m.\u001b[39mpop()\n",
      "    \u001b[1;31m[... skipping similar frames: backtr at line 24 (395 times)]\u001b[0m\n",
      "Cell \u001b[1;32mIn[8], line 24\u001b[0m, in \u001b[0;36mbacktr\u001b[1;34m(temp, index, target)\u001b[0m\n\u001b[0;32m     22\u001b[0m \u001b[38;5;28;01mif\u001b[39;00m prev\u001b[38;5;241m!=\u001b[39marr[i]:\n\u001b[0;32m     23\u001b[0m     temp\u001b[38;5;241m.\u001b[39mappend(arr[i])\n\u001b[1;32m---> 24\u001b[0m     \u001b[43mbacktr\u001b[49m\u001b[43m(\u001b[49m\u001b[43mtemp\u001b[49m\u001b[43m,\u001b[49m\u001b[43mi\u001b[49m\u001b[38;5;241;43m+\u001b[39;49m\u001b[38;5;241;43m1\u001b[39;49m\u001b[43m,\u001b[49m\u001b[43mtarget\u001b[49m\u001b[38;5;241;43m-\u001b[39;49m\u001b[43marr\u001b[49m\u001b[43m[\u001b[49m\u001b[43mi\u001b[49m\u001b[43m]\u001b[49m\u001b[43m)\u001b[49m\n\u001b[0;32m     25\u001b[0m     prev\u001b[38;5;241m=\u001b[39mtemp\u001b[38;5;241m.\u001b[39mpop()\n",
      "Cell \u001b[1;32mIn[8], line 25\u001b[0m, in \u001b[0;36mbacktr\u001b[1;34m(temp, index, target)\u001b[0m\n\u001b[0;32m     23\u001b[0m temp\u001b[38;5;241m.\u001b[39mappend(arr[i])\n\u001b[0;32m     24\u001b[0m backtr(temp,i\u001b[38;5;241m+\u001b[39m\u001b[38;5;241m1\u001b[39m,target\u001b[38;5;241m-\u001b[39marr[i])\n\u001b[1;32m---> 25\u001b[0m prev\u001b[38;5;241m=\u001b[39mtemp\u001b[38;5;241m.\u001b[39mpop()\n",
      "\u001b[1;31mKeyboardInterrupt\u001b[0m: "
     ]
    }
   ],
   "source": [
    "import random\n",
    "\n",
    "# Define the target sum\n",
    "target_sum = 872005# Generate a list of 10,000 integers\n",
    "arr = [random.randint(1, 100000) for _ in range(10000)]\n",
    "arr.sort()\n",
    "\n",
    "print(\"Target Sum:\", target_sum)\n",
    "# print(\"Input Set:\", input_set[:10])  # Print the first 10 elements for demonstration\n",
    "\n",
    "sol=[]\n",
    "# arr=[1,1,1,1,2,3,4,5,6]\n",
    "\n",
    "def backtr(temp,index,target):\n",
    "    if target==0:\n",
    "        sol.append(list(temp))\n",
    "        return\n",
    "    if target<0:\n",
    "        return\n",
    "    prev=-1\n",
    "    for i in range(index,len(arr)):\n",
    "        if prev!=arr[i]:\n",
    "            temp.append(arr[i])\n",
    "            backtr(temp,i+1,target-arr[i])\n",
    "            prev=temp.pop()\n",
    "backtr([],0,target_sum)\n",
    "print(sol)"
   ]
  }
 ],
 "metadata": {
  "kernelspec": {
   "display_name": "Python 3",
   "language": "python",
   "name": "python3"
  },
  "language_info": {
   "codemirror_mode": {
    "name": "ipython",
    "version": 3
   },
   "file_extension": ".py",
   "mimetype": "text/x-python",
   "name": "python",
   "nbconvert_exporter": "python",
   "pygments_lexer": "ipython3",
   "version": "3.11.5"
  }
 },
 "nbformat": 4,
 "nbformat_minor": 2
}
