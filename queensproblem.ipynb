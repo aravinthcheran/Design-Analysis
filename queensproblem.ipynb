{
 "cells": [
  {
   "cell_type": "code",
   "execution_count": 12,
   "metadata": {},
   "outputs": [
    {
     "name": "stdout",
     "output_type": "stream",
     "text": [
      "queen at 0 1\n",
      "queen at 1 3\n",
      "queen at 2 0\n",
      "queen at 3 2\n"
     ]
    }
   ],
   "source": [
    "class solution:\n",
    "    def __init__(self, x, y=0):\n",
    "        self.x = x\n",
    "        self.y = y\n",
    "\n",
    "    def adjacent(self, p, q) -> bool:\n",
    "        if p.y == q.y or abs(p.y - q.y) == abs(p.x - q.x) or not p or not q:\n",
    "            return True\n",
    "        else:\n",
    "            return False\n",
    "\n",
    "    def isSafe(self, queens, pointer=0):\n",
    "        while pointer < len(queens):\n",
    "            if queens[pointer].y<len(queens) and not self.adjacent(queens[pointer], queens[pointer - 1]):\n",
    "                pointer += 1\n",
    "            else:\n",
    "                queens[pointer].y += 1\n",
    "                if queens[pointer].y >= len(queens):\n",
    "                    queens[pointer].y = 0\n",
    "                    queens[pointer - 1].y += 1\n",
    "                    pointer -= 1\n",
    "        return queens\n",
    "\n",
    "queens = [solution(i) for i in range(4)]\n",
    "queens[0].isSafe(queens)\n",
    "for i in queens:\n",
    "    print(\"queen at\", i.x, i.y)\n"
   ]
  }
 ],
 "metadata": {
  "kernelspec": {
   "display_name": "Python 3",
   "language": "python",
   "name": "python3"
  },
  "language_info": {
   "codemirror_mode": {
    "name": "ipython",
    "version": 3
   },
   "file_extension": ".py",
   "mimetype": "text/x-python",
   "name": "python",
   "nbconvert_exporter": "python",
   "pygments_lexer": "ipython3",
   "version": "3.11.5"
  }
 },
 "nbformat": 4,
 "nbformat_minor": 2
}
