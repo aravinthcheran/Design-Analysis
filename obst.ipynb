{
 "cells": [
  {
   "cell_type": "code",
   "execution_count": 4,
   "metadata": {},
   "outputs": [
    {
     "name": "stdout",
     "output_type": "stream",
     "text": [
      "Optimal Cost: 1.4\n",
      "Root Table:\n",
      "[1, 2, 3, 3]\n",
      "[0, 2, 3, 3]\n",
      "[0, 0, 3, 3]\n",
      "[0, 0, 0, 4]\n"
     ]
    }
   ],
   "source": [
    "def optimal_bst(p):\n",
    "    n = len(p)\n",
    "    # Create cost and root matrices\n",
    "    C = [[0] * (n + 1) for _ in range(n + 1)]\n",
    "    R = [[0] * (n + 1) for _ in range(n + 1)]\n",
    "\n",
    "    # Initialize cost and root matrices\n",
    "    for i in range(1, n + 1):\n",
    "        C[i][i - 1] = 0\n",
    "        C[i][i] = p[i - 1]\n",
    "        R[i][i] = i\n",
    "    C[n + 1 - 1][n] = 0  # Correcting the initialization to avoid out-of-bounds\n",
    "\n",
    "    # Fill the cost and root matrices\n",
    "    for d in range(1, n):  # diagonal count\n",
    "        for i in range(1, n - d + 1):\n",
    "            j = i + d\n",
    "            minval = float('inf')\n",
    "            for k in range(i, j + 1):\n",
    "                if k + 1 > n:\n",
    "                    cost = C[i][k - 1]\n",
    "                else:\n",
    "                    cost = C[i][k - 1] + C[k + 1][j]\n",
    "                if cost < minval:\n",
    "                    minval = cost\n",
    "                    kmin = k\n",
    "            R[i][j] = kmin\n",
    "            sum_p = sum(p[i - 1:j])\n",
    "            C[i][j] = minval + sum_p\n",
    "\n",
    "    return C[1][n], R\n",
    "\n",
    "def main():\n",
    "    p = [0.1, 0.2, 0.4, 0.3]  # Example probabilities for 4 keys\n",
    "    optimal_cost, roots = optimal_bst(p)\n",
    "\n",
    "    print(\"Optimal Cost:\", optimal_cost)\n",
    "    print(\"Root Table:\")\n",
    "    for row in roots[1:len(p) + 1]:  # Adjusting to print relevant rows\n",
    "        print(row[1:len(p) + 1])     # Adjusting to print relevant columns\n",
    "\n",
    "if __name__ == \"__main__\":\n",
    "    main()\n"
   ]
  }
 ],
 "metadata": {
  "kernelspec": {
   "display_name": "Python 3",
   "language": "python",
   "name": "python3"
  },
  "language_info": {
   "codemirror_mode": {
    "name": "ipython",
    "version": 3
   },
   "file_extension": ".py",
   "mimetype": "text/x-python",
   "name": "python",
   "nbconvert_exporter": "python",
   "pygments_lexer": "ipython3",
   "version": "3.11.5"
  }
 },
 "nbformat": 4,
 "nbformat_minor": 2
}
