{
 "cells": [
  {
   "cell_type": "code",
   "execution_count": 3,
   "metadata": {},
   "outputs": [
    {
     "name": "stdout",
     "output_type": "stream",
     "text": [
      "[[0]]\n",
      "[[0, 1], [1, 0]]\n",
      "[[0, 2, 3], [2, 0, 1], [3, 1, 0]]\n",
      "[[0, 5, 8, 9], [999, 0, 3, 4], [999, 999, 0, 1], [999, 999, 999, 0]]\n",
      "[[0]]\n",
      "[[0, 1], [1, 0]]\n",
      "[[0, 1, 2], [1, 0, 3], [2, 3, 0]]\n",
      "[[0, 1, 2, 3], [1, 0, 3, 4], [2, 3, 0, 5], [3, 4, 5, 0]]\n"
     ]
    }
   ],
   "source": [
    "def floyd(arr):\n",
    "    n=len(arr)\n",
    "    for k in range(n):\n",
    "        for i in range(n):\n",
    "            for j in range(n):\n",
    "                arr[i][j]=min(arr[i][j],arr[i][k]+arr[k][j])\n",
    "    return arr\n",
    "\n",
    "n=int(input(\"Enter the no of verteces:\"))\n",
    "arr=[]\n",
    "for i in range(n):\n",
    "    arr.append(list(map(int,input().split())))\n",
    "print(floyd(arr))"
   ]
  }
 ],
 "metadata": {
  "kernelspec": {
   "display_name": "Python 3",
   "language": "python",
   "name": "python3"
  },
  "language_info": {
   "codemirror_mode": {
    "name": "ipython",
    "version": 3
   },
   "file_extension": ".py",
   "mimetype": "text/x-python",
   "name": "python",
   "nbconvert_exporter": "python",
   "pygments_lexer": "ipython3",
   "version": "3.11.5"
  }
 },
 "nbformat": 4,
 "nbformat_minor": 2
}
