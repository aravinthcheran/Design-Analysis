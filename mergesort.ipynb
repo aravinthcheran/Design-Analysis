{
 "cells": [
  {
   "cell_type": "markdown",
   "metadata": {},
   "source": [
    "to create a new array using merge sort by appending two array of equal sizes"
   ]
  },
  {
   "cell_type": "code",
   "execution_count": 1,
   "metadata": {},
   "outputs": [
    {
     "data": {
      "text/plain": [
       "[1, 2, 3, 4, 5, 6, 7, 8, 9, 10]"
      ]
     },
     "execution_count": 1,
     "metadata": {},
     "output_type": "execute_result"
    }
   ],
   "source": [
    "from array import array\n",
    "\n",
    "def merge(a: array,b: array)-> array:\n",
    "    c=[]\n",
    "    fptr=0\n",
    "    sptr=0\n",
    "    while(fptr<len(a) and sptr<len(b)):\n",
    "        if(a[fptr]<=b[sptr]):\n",
    "            c.append(a[fptr])\n",
    "            fptr+=1\n",
    "        else:\n",
    "            c.append(b[sptr])\n",
    "            sptr+=1\n",
    "    while(fptr<len(a)):\n",
    "        c.append(a[fptr])\n",
    "        fptr+=1\n",
    "    while(sptr<len(b)):\n",
    "        c.append(b[sptr])\n",
    "        sptr+=1\n",
    "    return c\n",
    "\n",
    "merge(array('i',[1,2,3,4,5]),array('i',[6,7,8,9,10]))"
   ]
  },
  {
   "cell_type": "markdown",
   "metadata": {},
   "source": [
    "merge sort modified"
   ]
  },
  {
   "cell_type": "code",
   "execution_count": 2,
   "metadata": {},
   "outputs": [
    {
     "name": "stdout",
     "output_type": "stream",
     "text": [
      "[1, 2, 3, 4, 5, 6, 7, 8, 9, 10]\n"
     ]
    }
   ],
   "source": [
    "from array import array\n",
    "\n",
    "def merge_sort(arr: array)->array:\n",
    "    low:int=0\n",
    "    high:int=len(arr)-1\n",
    "    if(low==high):\n",
    "        return [arr[low]]\n",
    "    else:\n",
    "        mid:int=(low+high)//2\n",
    "        left_arr=merge_sort(arr[low:mid+1])\n",
    "        right_arr=merge_sort(arr[mid+1:high+1])\n",
    "        return merge(left_arr,right_arr)\n",
    "\n",
    "def merge(a: array,b: array)-> array:\n",
    "    c=[]\n",
    "    fptr=0\n",
    "    sptr=0\n",
    "    while(fptr<len(a) and sptr<len(b)):\n",
    "        if(a[fptr]<=b[sptr]):\n",
    "            c.append(a[fptr])\n",
    "            fptr+=1\n",
    "        else:\n",
    "            c.append(b[sptr])\n",
    "            sptr+=1\n",
    "    while(fptr<len(a)):\n",
    "        c.append(a[fptr])\n",
    "        fptr+=1\n",
    "    while(sptr<len(b)):\n",
    "        c.append(b[sptr])\n",
    "        sptr+=1\n",
    "    return c\n",
    "\n",
    "print(merge_sort(array('i',[3,1,4,2,5,6,7,8,9,10])))"
   ]
  },
  {
   "cell_type": "markdown",
   "metadata": {},
   "source": [
    "prove merge sort is a stable sorting algorithm"
   ]
  },
  {
   "cell_type": "code",
   "execution_count": 5,
   "metadata": {},
   "outputs": [
    {
     "data": {
      "text/plain": [
       "[(1, 'A'), (1, 'B'), (2, 'A'), (2, 'B')]"
      ]
     },
     "execution_count": 5,
     "metadata": {},
     "output_type": "execute_result"
    }
   ],
   "source": [
    "# inversion count in array using merge sort,count the no of smaller elements in a right of every elements using merge sort\n",
    "\n",
    "import numpy as np\n",
    "\n",
    "def prove(arr:np.ndarray)->np.ndarray:\n",
    "    low=0\n",
    "    high=len(arr)-1\n",
    "    if(low==high):\n",
    "        return [arr[low]]\n",
    "    else:\n",
    "        mid=(low+high)//2\n",
    "        left_arr=prove(arr[low:mid+1])\n",
    "        right_arr=prove(arr[mid+1:high+1])\n",
    "        return merge(left_arr,right_arr)\n",
    "    \n",
    "def merge(a:np.ndarray,b:np.ndarray)->np.ndarray:\n",
    "    c=[]\n",
    "    fptr=0\n",
    "    sptr=0\n",
    "    while(fptr<len(a) and sptr<len(b)):\n",
    "        if(a[fptr][0]<=b[sptr][0]):\n",
    "            c.append(a[fptr])\n",
    "            fptr+=1\n",
    "        else:\n",
    "            c.append(b[sptr])\n",
    "            sptr+=1\n",
    "    while(fptr<len(a)):\n",
    "        c.append(a[fptr])\n",
    "        fptr+=1\n",
    "    while(sptr<len(b)):\n",
    "        c.append(b[sptr])\n",
    "        sptr+=1\n",
    "    return c\n",
    "\n",
    "(prove([(2, 'A'), (1, 'A'), (2, 'B'), (1, 'B')]))"
   ]
  },
  {
   "cell_type": "markdown",
   "metadata": {},
   "source": [
    "Inversion count in an array using merge sort"
   ]
  },
  {
   "cell_type": "code",
   "execution_count": null,
   "metadata": {},
   "outputs": [],
   "source": [
    "from array import array\n",
    "\n",
    "def inversion_count(a:array)->int:\n",
    "    count=0\n",
    "    low=0\n",
    "    high=len(a)-1\n",
    "    if(low==high):\n",
    "        return [a[low]]\n",
    "    else:\n",
    "        mid=(low+high)//2\n",
    "        left_arr=inversion_count(a[low:mid+1])\n",
    "        right_arr=inversion_count(a[mid+1:high+1])\n",
    "        count+=merge(left_arr,right_arr,count)\n",
    "\n",
    "    \n",
    "def merge(a:array,b:array)->int:\n",
    "    c=[]\n",
    "    fptr=0\n",
    "    sptr=0\n",
    "    count=0\n",
    "    while(fptr<len(a) and sptr<len(b)):\n",
    "        if(a[fptr]<=b[sptr]):\n",
    "            c.append(a[fptr])\n",
    "            fptr+=1\n",
    "        else:\n",
    "            count+=len(a)-fptr\n",
    "            c.append(b[sptr])\n",
    "            sptr+=1\n",
    "            count+=\n",
    "    while(fptr<len(a)):\n",
    "        c.append(a[fptr])\n",
    "        fptr+=1\n",
    "    while(sptr<len(b)):\n",
    "        c.append(b[sptr])\n",
    "        sptr+=1\n",
    "    "
   ]
  }
 ],
 "metadata": {
  "kernelspec": {
   "display_name": "Python 3",
   "language": "python",
   "name": "python3"
  },
  "language_info": {
   "codemirror_mode": {
    "name": "ipython",
    "version": 3
   },
   "file_extension": ".py",
   "mimetype": "text/x-python",
   "name": "python",
   "nbconvert_exporter": "python",
   "pygments_lexer": "ipython3",
   "version": "3.11.5"
  }
 },
 "nbformat": 4,
 "nbformat_minor": 2
}
