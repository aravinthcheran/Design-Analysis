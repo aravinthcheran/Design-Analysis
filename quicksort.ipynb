{
 "cells": [
  {
   "cell_type": "markdown",
   "metadata": {},
   "source": [
    "Code to implement quick sort with first element as pivot"
   ]
  },
  {
   "cell_type": "code",
   "execution_count": 1,
   "metadata": {},
   "outputs": [
    {
     "data": {
      "text/plain": [
       "array('i', [1, 2, 3, 5, 6, 8])"
      ]
     },
     "execution_count": 1,
     "metadata": {},
     "output_type": "execute_result"
    }
   ],
   "source": [
    "#quicksort\n",
    "from array import array\n",
    "\n",
    "def quick_sort(arr:array)->array:\n",
    "    if len(arr)<2:\n",
    "        return arr\n",
    "    else:\n",
    "        pivot=arr[0]\n",
    "        i=1\n",
    "        j=len(arr)-1\n",
    "        while i < len(arr) and pivot > arr[i]:\n",
    "            i = i + 1\n",
    "        while j >= 0 and pivot < arr[j]:\n",
    "            j -= 1\n",
    "        if i<j:\n",
    "            arr[i],arr[j]=arr[j],arr[i]\n",
    "        else:\n",
    "            arr[0],arr[j]=arr[j],arr[0]\n",
    "        return quick_sort(arr[:j])+array('i',[pivot])+quick_sort(arr[j+1:])\n",
    "    \n",
    "quick_sort(array('i',[3,1,2,5,6,8]))"
   ]
  }
 ],
 "metadata": {
  "kernelspec": {
   "display_name": "Python 3",
   "language": "python",
   "name": "python3"
  },
  "language_info": {
   "codemirror_mode": {
    "name": "ipython",
    "version": 3
   },
   "file_extension": ".py",
   "mimetype": "text/x-python",
   "name": "python",
   "nbconvert_exporter": "python",
   "pygments_lexer": "ipython3",
   "version": "3.11.5"
  }
 },
 "nbformat": 4,
 "nbformat_minor": 2
}
