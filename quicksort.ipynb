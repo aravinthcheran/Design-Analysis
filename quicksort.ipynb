{
 "cells": [
  {
   "cell_type": "markdown",
   "metadata": {},
   "source": [
    "Code to implement quick sort with first element as pivot"
   ]
  },
  {
   "cell_type": "code",
   "execution_count": 8,
   "metadata": {},
   "outputs": [
    {
     "data": {
      "text/plain": [
       "array('i', [0, 1, 2, 4, 6])"
      ]
     },
     "execution_count": 8,
     "metadata": {},
     "output_type": "execute_result"
    }
   ],
   "source": [
    "from array import array\n",
    "\n",
    "def quick_sort(arr:array)->array:\n",
    "    if len(arr)<=1:\n",
    "        return arr\n",
    "    i,j=1,len(arr)-1\n",
    "    pivot=arr[0]\n",
    "\n",
    "    while i<len(arr) and pivot>arr[i]:\n",
    "        i+=1\n",
    "    while j>=0 and pivot<arr[j]:\n",
    "        j-=1\n",
    "    if i<j:\n",
    "        arr[i],arr[j]=arr[j],arr[i]\n",
    "    else:\n",
    "        arr[0],arr[j]=arr[j],arr[0]\n",
    "    return quick_sort(arr[:j])+array('i',[pivot])+quick_sort(arr[j+1:])\n",
    "\n",
    "quick_sort(array('i',[4,1,0,2,6]))"
   ]
  }
 ],
 "metadata": {
  "kernelspec": {
   "display_name": "Python 3",
   "language": "python",
   "name": "python3"
  },
  "language_info": {
   "codemirror_mode": {
    "name": "ipython",
    "version": 3
   },
   "file_extension": ".py",
   "mimetype": "text/x-python",
   "name": "python",
   "nbconvert_exporter": "python",
   "pygments_lexer": "ipython3",
   "version": "3.11.5"
  }
 },
 "nbformat": 4,
 "nbformat_minor": 2
}
