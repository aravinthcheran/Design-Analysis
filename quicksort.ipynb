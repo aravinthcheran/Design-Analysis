{
 "cells": [
  {
   "cell_type": "markdown",
   "metadata": {},
   "source": [
    "Code to implement quick sort with first element as pivot"
   ]
  },
  {
   "cell_type": "code",
   "execution_count": 8,
   "metadata": {},
   "outputs": [
    {
     "data": {
      "text/plain": [
       "array('i', [0, 1, 2, 4, 6])"
      ]
     },
     "execution_count": 8,
     "metadata": {},
     "output_type": "execute_result"
    }
   ],
   "source": [
    "from array import array\n",
    "\n",
    "def quick_sort(arr:array)->array:\n",
    "    if len(arr)<=1:\n",
    "        return arr\n",
    "    i,j=1,len(arr)-1\n",
    "    pivot=arr[0]\n",
    "\n",
    "    while i<len(arr) and pivot>arr[i]:\n",
    "        i+=1\n",
    "    while j>=0 and pivot<arr[j]:\n",
    "        j-=1\n",
    "    if i<j:\n",
    "        arr[i],arr[j]=arr[j],arr[i]\n",
    "    else:\n",
    "        arr[0],arr[j]=arr[j],arr[0]\n",
    "    return quick_sort(arr[:j])+array('i',[pivot])+quick_sort(arr[j+1:])\n",
    "\n",
    "quick_sort(array('i',[4,1,0,2,6]))"
   ]
  },
  {
   "cell_type": "markdown",
   "metadata": {},
   "source": [
    "Middle element as pivot"
   ]
  },
  {
   "cell_type": "code",
   "execution_count": 6,
   "metadata": {},
   "outputs": [
    {
     "data": {
      "text/plain": [
       "array('i', [0, 1, 2, 4, 6])"
      ]
     },
     "execution_count": 6,
     "metadata": {},
     "output_type": "execute_result"
    }
   ],
   "source": [
    "from array import array\n",
    "\n",
    "def quick_sort(arr:array)->array:\n",
    "    if len(arr)<=1:\n",
    "        return arr\n",
    "    else:\n",
    "        pivot=arr[len(arr)//2]\n",
    "        left=array('i',[x for x in arr if x<pivot])\n",
    "        right=array('i',[x for x in arr if x>pivot])\n",
    "        return quick_sort(left)+array('i',[pivot])+quick_sort(right)\n",
    "quick_sort(array('i',[4,1,0,2,6]))"
   ]
  },
  {
   "cell_type": "markdown",
   "metadata": {},
   "source": [
    "last element as pivot"
   ]
  },
  {
   "cell_type": "code",
   "execution_count": 7,
   "metadata": {},
   "outputs": [
    {
     "data": {
      "text/plain": [
       "array('i', [0, 1, 2, 4, 6])"
      ]
     },
     "execution_count": 7,
     "metadata": {},
     "output_type": "execute_result"
    }
   ],
   "source": [
    "from array import array\n",
    "\n",
    "def quick_sort(arr:array)->array:\n",
    "    if len(arr)<=1:\n",
    "        return arr\n",
    "    else:\n",
    "        pivot=arr[-1]\n",
    "        left=array('i',[x for x in arr if x<pivot])\n",
    "        right=array('i',[x for x in arr if x>pivot])\n",
    "        return quick_sort(left)+array('i',[pivot])+quick_sort(right)\n",
    "quick_sort(array('i',[4,1,0,2,6]))"
   ]
  },
  {
   "cell_type": "markdown",
   "metadata": {},
   "source": [
    "- T(1)=1\n",
    "- T(n)=2*T(n/2)+ O(n)\n",
    "- =2*(2*T(n/4)+O(n/2))+O(n)\n",
    "- =4*T(n/4)+2*O(n)\n",
    "- =4*(2*T(n/8)+O(n/4))+2*O(n)\n",
    "- =8*T(n/8)+3*O(n)\n",
    "- =2^k*T(n/2^k)+k*O(n)\n",
    "- =n*T(1)+log(n)*O(n)\n",
    "- =n+log(n)*O(n)\n",
    "- =O(nlogn)\n",
    "\n"
   ]
  },
  {
   "cell_type": "code",
   "execution_count": null,
   "metadata": {},
   "outputs": [],
   "source": [
    "class Solution(object):\n",
    "    def divide(self, dividend, divisor):\n",
    "        if (dividend>2^31-1)^(dividend<-2^31):\n",
    "            return\n",
    "        div=abs(dividend)\n",
    "        divs=abs(divisor)\n",
    "        i=0\n",
    "        while div>=divs:\n",
    "            div-=divs\n",
    "            i+=1\n",
    "        return i*-1 if divisor<0 ^ dividend<0 else i   "
   ]
  }
 ],
 "metadata": {
  "kernelspec": {
   "display_name": "Python 3",
   "language": "python",
   "name": "python3"
  },
  "language_info": {
   "codemirror_mode": {
    "name": "ipython",
    "version": 3
   },
   "file_extension": ".py",
   "mimetype": "text/x-python",
   "name": "python",
   "nbconvert_exporter": "python",
   "pygments_lexer": "ipython3",
   "version": "3.11.5"
  }
 },
 "nbformat": 4,
 "nbformat_minor": 2
}
