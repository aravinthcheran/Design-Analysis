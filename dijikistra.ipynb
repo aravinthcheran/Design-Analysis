{
 "cells": [
  {
   "cell_type": "code",
   "execution_count": null,
   "metadata": {},
   "outputs": [],
   "source": [
    "from array import array\n",
    "from collections import heapq\n",
    "\n",
    "def dijikistra(array:int)->array:\n",
    "    pass\n",
    "\n",
    "v = int(input(\"Enter the number of vertices: \"))\n",
    "e = int(input(\"Enter the number of edges: \"))\n",
    "graph=list[v][v]\n",
    "\n",
    "for i in range(e):\n",
    "    j=int(input(\"Enter the source vertex: \"))\n",
    "    k=int(input(\"Enter the destination vertex: \"))\n",
    "    w=int(input(\"Enter the weight of the edge: \"))\n",
    "    graph[j][k]=w\n",
    "\n",
    "heapq.heapify(graph)"
   ]
  },
  {
   "cell_type": "code",
   "execution_count": null,
   "metadata": {},
   "outputs": [],
   "source": [
    "import heapq\n",
    "\n",
    "def dijkstra(graph, start_vertex):\n",
    "    D = {v: float('infinity') for v in graph}\n",
    "    D[start_vertex] = 0\n",
    "\n",
    "    priority_queue = [(0, start_vertex)]\n",
    "    while len(priority_queue) > 0:\n",
    "        (dist, current_vertex) = heapq.heappop(priority_queue)\n",
    "        for neighbor, neighbor_dist in graph[current_vertex].items():\n",
    "            old_cost = D[neighbor]\n",
    "            new_cost = D[current_vertex] + neighbor_dist\n",
    "            if new_cost < old_cost:\n",
    "                D[neighbor] = new_cost\n",
    "                heapq.heappush(priority_queue, (new_cost, neighbor))\n",
    "    return D\n",
    "\n",
    "# usage\n",
    "graph = {\n",
    "    'A': {'B': 1, 'C': 3},\n",
    "    'B': {'A': 1, 'C': 2, 'D': 4},\n",
    "    'C': {'A': 3, 'B': 2, 'D': 1},\n",
    "    'D': {'B': 4, 'C': 1},\n",
    "}\n",
    "D = dijkstra(graph, 'A')\n",
    "print(D)  # prints: {'A': 0, 'B': 1, 'C': 3, 'D': 4}"
   ]
  },
  {
   "cell_type": "code",
   "execution_count": 7,
   "metadata": {},
   "outputs": [
    {
     "name": "stdout",
     "output_type": "stream",
     "text": [
      "[(4, 2, 3), (5, 1, 2), (6, 1, 3), (12, 2, 3), (9, 2, 1), (inf, 3, 1)]\n"
     ]
    }
   ],
   "source": [
    "from math import inf\n",
    "# v=int(input(\"Enter the number of vertices: \"))\n",
    "# e=int(input(\"Enter the number of edges: \"))\n",
    "# graph=[(1,2,3),(2,3,4),(3,4,5),(4,1,6),(4,2,7),(3,1,8),(2,1,9),(4,3,10),(1,4,11),(2,4,12)]\n",
    "#format:(weight,edge1,edge2)\n",
    "graph=[(5,1,2),(12,2,3),(6,1,3),(4,2,3),(9,2,1),(inf,3,1)]\n",
    "# for i in range(e):\n",
    "#     j=int(input(\"Enter the source vertex: \"))\n",
    "#     k=int(input(\"Enter the destination vertex: \"))\n",
    "#     w=int(input(\"Enter the weight of the edge: \"))\n",
    "#     graph.append([j,k,w])\n",
    "heapq.heapify(graph)\n",
    "print(graph)\n",
    "\n"
   ]
  },
  {
   "cell_type": "code",
   "execution_count": null,
   "metadata": {},
   "outputs": [],
   "source": [
    "import heapq\n",
    "\n",
    "def dijkstra(graph, source):\n",
    "    distance = {node: float('inf') for node in graph}\n",
    "    visited = {node: False for node in graph}\n",
    "    distance[source] = 0\n",
    "    priority_queue = [(0, source)]  # (distance, node)\n",
    "\n",
    "    while priority_queue:\n",
    "        current_distance, current_node = heapq.heappop(priority_queue)\n",
    "\n",
    "        if visited[current_node]:\n",
    "            continue\n",
    "\n",
    "        visited[current_node] = True\n",
    "\n",
    "        for neighbor, weight in graph[current_node].items():\n",
    "            if not visited[neighbor]:\n",
    "                new_distance = distance[current_node] + weight\n",
    "                if new_distance < distance[neighbor]:\n",
    "                    distance[neighbor] = new_distance\n",
    "                    heapq.heappush(priority_queue, (new_distance, neighbor))\n",
    "\n",
    "    return distance\n",
    "\n",
    "# Example usage:\n",
    "graph = {\n",
    "    'A': {'B': 3, 'C': 4},\n",
    "    'B': {'A': 3, 'C': 2, 'D': 2},\n",
    "    'C': {'A': 4, 'B': 2, 'D': 1},\n",
    "    'D': {'B': 2, 'C': 1}\n",
    "}\n",
    "source_node = 'A'\n",
    "distances = dijkstra(graph, source_node)\n",
    "print(\"Shortest distances from node\", source_node, \"to all other nodes:\", distances)\n"
   ]
  }
 ],
 "metadata": {
  "kernelspec": {
   "display_name": "Python 3",
   "language": "python",
   "name": "python3"
  },
  "language_info": {
   "codemirror_mode": {
    "name": "ipython",
    "version": 3
   },
   "file_extension": ".py",
   "mimetype": "text/x-python",
   "name": "python",
   "nbconvert_exporter": "python",
   "pygments_lexer": "ipython3",
   "version": "3.11.5"
  }
 },
 "nbformat": 4,
 "nbformat_minor": 2
}
